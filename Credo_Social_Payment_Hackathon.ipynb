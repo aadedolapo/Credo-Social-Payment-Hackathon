{
 "cells": [
  {
   "cell_type": "markdown",
   "metadata": {
    "id": "PLelE6fyO12P"
   },
   "source": [
    "# Product Recommendation System for an Online Retail Store\n",
    "\n",
    "## Project carried out by Team Localhost\n",
    "\n",
    "### Team members:\n",
    "* Dolapo Adebo (Data Scientist/ML engineer)\n",
    "* Kenechukwu Ifediorah (Data Engineer/Analyst)\n",
    "* Chibuoke Juliet (Data Scientist)\n",
    "* Wofai Alfred Eyong (Data Scientist)\n",
    "* Eniola Olaleye (ML Engineer)"
   ]
  },
  {
   "cell_type": "code",
   "execution_count": 334,
   "metadata": {
    "id": "jFKTksJzrsGh"
   },
   "outputs": [],
   "source": [
    "import pandas as pd\n",
    "import numpy as np\n",
    "import matplotlib.pyplot as plt\n",
    "import seaborn as sns\n",
    "%matplotlib inline"
   ]
  },
  {
   "cell_type": "code",
   "execution_count": 335,
   "metadata": {
    "id": "PoNd_WQfaTUU"
   },
   "outputs": [],
   "source": [
    "from sklearn.metrics.pairwise import cosine_similarity\n",
    "import datetime\n",
    "import warnings\n",
    "warnings.filterwarnings(\"ignore\")"
   ]
  },
  {
   "cell_type": "code",
   "execution_count": 337,
   "metadata": {},
   "outputs": [
    {
     "name": "stdout",
     "output_type": "stream",
     "text": [
      "<_io.TextIOWrapper name='Global_Superstore2.csv' mode='r' encoding='cp1252'>\n"
     ]
    }
   ],
   "source": [
    "# To get the encoding of the file\n",
    "with open(\"Global_Superstore2.csv\") as f:\n",
    "    print(f)"
   ]
  },
  {
   "cell_type": "code",
   "execution_count": 338,
   "metadata": {},
   "outputs": [
    {
     "data": {
      "text/html": [
       "<div>\n",
       "<style scoped>\n",
       "    .dataframe tbody tr th:only-of-type {\n",
       "        vertical-align: middle;\n",
       "    }\n",
       "\n",
       "    .dataframe tbody tr th {\n",
       "        vertical-align: top;\n",
       "    }\n",
       "\n",
       "    .dataframe thead th {\n",
       "        text-align: right;\n",
       "    }\n",
       "</style>\n",
       "<table border=\"1\" class=\"dataframe\">\n",
       "  <thead>\n",
       "    <tr style=\"text-align: right;\">\n",
       "      <th></th>\n",
       "      <th>Row ID</th>\n",
       "      <th>Order ID</th>\n",
       "      <th>Order Date</th>\n",
       "      <th>Ship Date</th>\n",
       "      <th>Ship Mode</th>\n",
       "      <th>Customer ID</th>\n",
       "      <th>Customer Name</th>\n",
       "      <th>Segment</th>\n",
       "      <th>City</th>\n",
       "      <th>State</th>\n",
       "      <th>...</th>\n",
       "      <th>Product ID</th>\n",
       "      <th>Category</th>\n",
       "      <th>Sub-Category</th>\n",
       "      <th>Product Name</th>\n",
       "      <th>Sales</th>\n",
       "      <th>Quantity</th>\n",
       "      <th>Discount</th>\n",
       "      <th>Profit</th>\n",
       "      <th>Shipping Cost</th>\n",
       "      <th>Order Priority</th>\n",
       "    </tr>\n",
       "  </thead>\n",
       "  <tbody>\n",
       "    <tr>\n",
       "      <th>0</th>\n",
       "      <td>32298</td>\n",
       "      <td>CA-2012-124891</td>\n",
       "      <td>31-07-2012</td>\n",
       "      <td>31-07-2012</td>\n",
       "      <td>Same Day</td>\n",
       "      <td>RH-19495</td>\n",
       "      <td>Rick Hansen</td>\n",
       "      <td>Consumer</td>\n",
       "      <td>New York City</td>\n",
       "      <td>New York</td>\n",
       "      <td>...</td>\n",
       "      <td>TEC-AC-10003033</td>\n",
       "      <td>Technology</td>\n",
       "      <td>Accessories</td>\n",
       "      <td>Plantronics CS510 - Over-the-Head monaural Wir...</td>\n",
       "      <td>2309.650</td>\n",
       "      <td>7</td>\n",
       "      <td>0.0</td>\n",
       "      <td>762.1845</td>\n",
       "      <td>933.57</td>\n",
       "      <td>Critical</td>\n",
       "    </tr>\n",
       "    <tr>\n",
       "      <th>1</th>\n",
       "      <td>26341</td>\n",
       "      <td>IN-2013-77878</td>\n",
       "      <td>05-02-2013</td>\n",
       "      <td>07-02-2013</td>\n",
       "      <td>Second Class</td>\n",
       "      <td>JR-16210</td>\n",
       "      <td>Justin Ritter</td>\n",
       "      <td>Corporate</td>\n",
       "      <td>Wollongong</td>\n",
       "      <td>New South Wales</td>\n",
       "      <td>...</td>\n",
       "      <td>FUR-CH-10003950</td>\n",
       "      <td>Furniture</td>\n",
       "      <td>Chairs</td>\n",
       "      <td>Novimex Executive Leather Armchair, Black</td>\n",
       "      <td>3709.395</td>\n",
       "      <td>9</td>\n",
       "      <td>0.1</td>\n",
       "      <td>-288.7650</td>\n",
       "      <td>923.63</td>\n",
       "      <td>Critical</td>\n",
       "    </tr>\n",
       "    <tr>\n",
       "      <th>2</th>\n",
       "      <td>25330</td>\n",
       "      <td>IN-2013-71249</td>\n",
       "      <td>17-10-2013</td>\n",
       "      <td>18-10-2013</td>\n",
       "      <td>First Class</td>\n",
       "      <td>CR-12730</td>\n",
       "      <td>Craig Reiter</td>\n",
       "      <td>Consumer</td>\n",
       "      <td>Brisbane</td>\n",
       "      <td>Queensland</td>\n",
       "      <td>...</td>\n",
       "      <td>TEC-PH-10004664</td>\n",
       "      <td>Technology</td>\n",
       "      <td>Phones</td>\n",
       "      <td>Nokia Smart Phone, with Caller ID</td>\n",
       "      <td>5175.171</td>\n",
       "      <td>9</td>\n",
       "      <td>0.1</td>\n",
       "      <td>919.9710</td>\n",
       "      <td>915.49</td>\n",
       "      <td>Medium</td>\n",
       "    </tr>\n",
       "    <tr>\n",
       "      <th>3</th>\n",
       "      <td>13524</td>\n",
       "      <td>ES-2013-1579342</td>\n",
       "      <td>28-01-2013</td>\n",
       "      <td>30-01-2013</td>\n",
       "      <td>First Class</td>\n",
       "      <td>KM-16375</td>\n",
       "      <td>Katherine Murray</td>\n",
       "      <td>Home Office</td>\n",
       "      <td>Berlin</td>\n",
       "      <td>Berlin</td>\n",
       "      <td>...</td>\n",
       "      <td>TEC-PH-10004583</td>\n",
       "      <td>Technology</td>\n",
       "      <td>Phones</td>\n",
       "      <td>Motorola Smart Phone, Cordless</td>\n",
       "      <td>2892.510</td>\n",
       "      <td>5</td>\n",
       "      <td>0.1</td>\n",
       "      <td>-96.5400</td>\n",
       "      <td>910.16</td>\n",
       "      <td>Medium</td>\n",
       "    </tr>\n",
       "    <tr>\n",
       "      <th>4</th>\n",
       "      <td>47221</td>\n",
       "      <td>SG-2013-4320</td>\n",
       "      <td>05-11-2013</td>\n",
       "      <td>06-11-2013</td>\n",
       "      <td>Same Day</td>\n",
       "      <td>RH-9495</td>\n",
       "      <td>Rick Hansen</td>\n",
       "      <td>Consumer</td>\n",
       "      <td>Dakar</td>\n",
       "      <td>Dakar</td>\n",
       "      <td>...</td>\n",
       "      <td>TEC-SHA-10000501</td>\n",
       "      <td>Technology</td>\n",
       "      <td>Copiers</td>\n",
       "      <td>Sharp Wireless Fax, High-Speed</td>\n",
       "      <td>2832.960</td>\n",
       "      <td>8</td>\n",
       "      <td>0.0</td>\n",
       "      <td>311.5200</td>\n",
       "      <td>903.04</td>\n",
       "      <td>Critical</td>\n",
       "    </tr>\n",
       "  </tbody>\n",
       "</table>\n",
       "<p>5 rows × 24 columns</p>\n",
       "</div>"
      ],
      "text/plain": [
       "   Row ID         Order ID  Order Date   Ship Date     Ship Mode Customer ID  \\\n",
       "0   32298   CA-2012-124891  31-07-2012  31-07-2012      Same Day    RH-19495   \n",
       "1   26341    IN-2013-77878  05-02-2013  07-02-2013  Second Class    JR-16210   \n",
       "2   25330    IN-2013-71249  17-10-2013  18-10-2013   First Class    CR-12730   \n",
       "3   13524  ES-2013-1579342  28-01-2013  30-01-2013   First Class    KM-16375   \n",
       "4   47221     SG-2013-4320  05-11-2013  06-11-2013      Same Day     RH-9495   \n",
       "\n",
       "      Customer Name      Segment           City            State  ...  \\\n",
       "0       Rick Hansen     Consumer  New York City         New York  ...   \n",
       "1     Justin Ritter    Corporate     Wollongong  New South Wales  ...   \n",
       "2      Craig Reiter     Consumer       Brisbane       Queensland  ...   \n",
       "3  Katherine Murray  Home Office         Berlin           Berlin  ...   \n",
       "4       Rick Hansen     Consumer          Dakar            Dakar  ...   \n",
       "\n",
       "         Product ID    Category Sub-Category  \\\n",
       "0   TEC-AC-10003033  Technology  Accessories   \n",
       "1   FUR-CH-10003950   Furniture       Chairs   \n",
       "2   TEC-PH-10004664  Technology       Phones   \n",
       "3   TEC-PH-10004583  Technology       Phones   \n",
       "4  TEC-SHA-10000501  Technology      Copiers   \n",
       "\n",
       "                                        Product Name     Sales Quantity  \\\n",
       "0  Plantronics CS510 - Over-the-Head monaural Wir...  2309.650        7   \n",
       "1          Novimex Executive Leather Armchair, Black  3709.395        9   \n",
       "2                  Nokia Smart Phone, with Caller ID  5175.171        9   \n",
       "3                     Motorola Smart Phone, Cordless  2892.510        5   \n",
       "4                     Sharp Wireless Fax, High-Speed  2832.960        8   \n",
       "\n",
       "  Discount    Profit  Shipping Cost  Order Priority  \n",
       "0      0.0  762.1845         933.57        Critical  \n",
       "1      0.1 -288.7650         923.63        Critical  \n",
       "2      0.1  919.9710         915.49          Medium  \n",
       "3      0.1  -96.5400         910.16          Medium  \n",
       "4      0.0  311.5200         903.04        Critical  \n",
       "\n",
       "[5 rows x 24 columns]"
      ]
     },
     "execution_count": 338,
     "metadata": {},
     "output_type": "execute_result"
    }
   ],
   "source": [
    "data = pd.read_csv(\"Global_Superstore2.csv\", encoding=\"cp1252\")\n",
    "data.head()"
   ]
  },
  {
   "cell_type": "code",
   "execution_count": 339,
   "metadata": {
    "colab": {
     "base_uri": "https://localhost:8080/"
    },
    "id": "Dg_-Xapwt06O",
    "outputId": "5e0b6700-89ed-43e8-f134-f664bdd294fa"
   },
   "outputs": [
    {
     "name": "stdout",
     "output_type": "stream",
     "text": [
      "<class 'pandas.core.frame.DataFrame'>\n",
      "RangeIndex: 51290 entries, 0 to 51289\n",
      "Data columns (total 24 columns):\n",
      " #   Column          Non-Null Count  Dtype  \n",
      "---  ------          --------------  -----  \n",
      " 0   Row ID          51290 non-null  int64  \n",
      " 1   Order ID        51290 non-null  object \n",
      " 2   Order Date      51290 non-null  object \n",
      " 3   Ship Date       51290 non-null  object \n",
      " 4   Ship Mode       51290 non-null  object \n",
      " 5   Customer ID     51290 non-null  object \n",
      " 6   Customer Name   51290 non-null  object \n",
      " 7   Segment         51290 non-null  object \n",
      " 8   City            51290 non-null  object \n",
      " 9   State           51290 non-null  object \n",
      " 10  Country         51290 non-null  object \n",
      " 11  Postal Code     9994 non-null   float64\n",
      " 12  Market          51290 non-null  object \n",
      " 13  Region          51290 non-null  object \n",
      " 14  Product ID      51290 non-null  object \n",
      " 15  Category        51290 non-null  object \n",
      " 16  Sub-Category    51290 non-null  object \n",
      " 17  Product Name    51290 non-null  object \n",
      " 18  Sales           51290 non-null  float64\n",
      " 19  Quantity        51290 non-null  int64  \n",
      " 20  Discount        51290 non-null  float64\n",
      " 21  Profit          51290 non-null  float64\n",
      " 22  Shipping Cost   51290 non-null  float64\n",
      " 23  Order Priority  51290 non-null  object \n",
      "dtypes: float64(5), int64(2), object(17)\n",
      "memory usage: 9.4+ MB\n"
     ]
    }
   ],
   "source": [
    "data.info()"
   ]
  },
  {
   "cell_type": "code",
   "execution_count": 340,
   "metadata": {
    "colab": {
     "base_uri": "https://localhost:8080/"
    },
    "id": "lbjuEDaeur4_",
    "outputId": "b77b203d-82d1-4ccf-acd5-a50aa4592128"
   },
   "outputs": [
    {
     "data": {
      "text/plain": [
       "(51290, 24)"
      ]
     },
     "execution_count": 340,
     "metadata": {},
     "output_type": "execute_result"
    }
   ],
   "source": [
    "data.shape"
   ]
  },
  {
   "cell_type": "code",
   "execution_count": 341,
   "metadata": {
    "colab": {
     "base_uri": "https://localhost:8080/"
    },
    "id": "xBqc8rVjwszO",
    "outputId": "621b8f57-c325-4b19-9dfd-82e5eb08616e"
   },
   "outputs": [
    {
     "data": {
      "text/plain": [
       "Row ID             0.00000\n",
       "Order ID           0.00000\n",
       "Order Date         0.00000\n",
       "Ship Date          0.00000\n",
       "Ship Mode          0.00000\n",
       "Customer ID        0.00000\n",
       "Customer Name      0.00000\n",
       "Segment            0.00000\n",
       "City               0.00000\n",
       "State              0.00000\n",
       "Country            0.00000\n",
       "Postal Code       80.51472\n",
       "Market             0.00000\n",
       "Region             0.00000\n",
       "Product ID         0.00000\n",
       "Category           0.00000\n",
       "Sub-Category       0.00000\n",
       "Product Name       0.00000\n",
       "Sales              0.00000\n",
       "Quantity           0.00000\n",
       "Discount           0.00000\n",
       "Profit             0.00000\n",
       "Shipping Cost      0.00000\n",
       "Order Priority     0.00000\n",
       "dtype: float64"
      ]
     },
     "execution_count": 341,
     "metadata": {},
     "output_type": "execute_result"
    }
   ],
   "source": [
    "# Percentage of missing values in each column\n",
    "percent_missing = data.isnull().sum() * 100 / len(data)\n",
    "percent_missing"
   ]
  },
  {
   "cell_type": "code",
   "execution_count": 342,
   "metadata": {
    "id": "Ga_QZxs4jSnK"
   },
   "outputs": [],
   "source": [
    "# Dropping Postal Code Column. This is because it has over 80% null values in its column\n",
    "data.drop('Postal Code', axis='columns', inplace=True)"
   ]
  },
  {
   "cell_type": "code",
   "execution_count": 343,
   "metadata": {
    "colab": {
     "base_uri": "https://localhost:8080/"
    },
    "id": "oSeDRQIpjqaU",
    "outputId": "7b603330-0385-4414-b6d1-5b5e6a282eb3"
   },
   "outputs": [
    {
     "data": {
      "text/plain": [
       "(51290, 23)"
      ]
     },
     "execution_count": 343,
     "metadata": {},
     "output_type": "execute_result"
    }
   ],
   "source": [
    "data.shape"
   ]
  },
  {
   "cell_type": "code",
   "execution_count": 344,
   "metadata": {
    "id": "jdZBonISw5wE"
   },
   "outputs": [],
   "source": [
    "# Change the Order date and ship date to a datetime object\n",
    "data['Order Date'] = pd.to_datetime(data['Order Date'], format='%d-%m-%Y')\n",
    "data['Ship Date'] = pd.to_datetime(data['Ship Date'], format='%d-%m-%Y')"
   ]
  },
  {
   "cell_type": "code",
   "execution_count": 345,
   "metadata": {
    "id": "mAXCnIakBBa-"
   },
   "outputs": [],
   "source": [
    "# Number of days taken for a product to be delivered after an order has been placed\n",
    "data['Order-Ship Date'] = data['Ship Date'] - data['Order Date']\n",
    "data['Order-Ship Date'] = data['Order-Ship Date'].astype('str')"
   ]
  },
  {
   "cell_type": "code",
   "execution_count": 346,
   "metadata": {
    "id": "hJTRJqdQwhdE"
   },
   "outputs": [],
   "source": [
    "data['Order-Ship Date'] = data['Order-Ship Date'].str.split(' ', expand=True)[0] "
   ]
  },
  {
   "cell_type": "code",
   "execution_count": 347,
   "metadata": {
    "colab": {
     "base_uri": "https://localhost:8080/",
     "height": 621
    },
    "id": "nkEhu0hlwJpq",
    "outputId": "8bd65603-8b81-46fa-d777-ed351b4cb03f"
   },
   "outputs": [
    {
     "data": {
      "image/png": "[encoded data removed]",
      "text/plain": [
       "<Figure size 720x720 with 1 Axes>"
      ]
     },
     "metadata": {
      "needs_background": "light"
     },
     "output_type": "display_data"
    }
   ],
   "source": [
    "plt.figure(figsize=(10,10))\n",
    "sns.countplot(x=data['Order-Ship Date'], hue=data['Category'])\n",
    "plt.title('Number of Days between Order date and Ship Date');"
   ]
  },
  {
   "cell_type": "code",
   "execution_count": 348,
   "metadata": {
    "id": "tiMjBLFa2HbW"
   },
   "outputs": [],
   "source": [
    "# Create a function to check unique values in multiple columns\n",
    "def unique_(dataframe, cols):\n",
    "    for i in cols:\n",
    "        data = dataframe[i].unique()\n",
    "        print(i,\">> Unique Categories:\",data,'\\n')"
   ]
  },
  {
   "cell_type": "code",
   "execution_count": 349,
   "metadata": {
    "colab": {
     "base_uri": "https://localhost:8080/"
    },
    "id": "VhbyVsPIkfD2",
    "outputId": "73529185-d4e0-48e0-9123-21017679184a"
   },
   "outputs": [
    {
     "name": "stdout",
     "output_type": "stream",
     "text": [
      "Ship Mode >> Unique Categories: ['Same Day' 'Second Class' 'First Class' 'Standard Class'] \n",
      "\n",
      "Segment >> Unique Categories: ['Consumer' 'Corporate' 'Home Office'] \n",
      "\n",
      "Market >> Unique Categories: ['US' 'APAC' 'EU' 'Africa' 'EMEA' 'LATAM' 'Canada'] \n",
      "\n",
      "Region >> Unique Categories: ['East' 'Oceania' 'Central' 'Africa' 'West' 'South' 'Central Asia' 'EMEA'\n",
      " 'North Asia' 'North' 'Caribbean' 'Southeast Asia' 'Canada'] \n",
      "\n",
      "Category >> Unique Categories: ['Technology' 'Furniture' 'Office Supplies'] \n",
      "\n",
      "Order Priority >> Unique Categories: ['Critical' 'Medium' 'High' 'Low'] \n",
      "\n"
     ]
    }
   ],
   "source": [
    "cols = ['Ship Mode', 'Segment', 'Market', 'Region','Category', 'Order Priority']\n",
    "unique_(data, cols)"
   ]
  },
  {
   "cell_type": "code",
   "execution_count": 350,
   "metadata": {
    "colab": {
     "base_uri": "https://localhost:8080/",
     "height": 360
    },
    "id": "YPOW96BznWhS",
    "outputId": "6cb1dc7f-cce8-4381-a531-b66cb392693e"
   },
   "outputs": [
    {
     "data": {
      "image/png": "[encoded data removed]",
      "text/plain": [
       "<Figure size 432x288 with 1 Axes>"
      ]
     },
     "metadata": {
      "needs_background": "light"
     },
     "output_type": "display_data"
    }
   ],
   "source": [
    "data['Category'].value_counts().plot(kind='bar',\n",
    "                                     title='Categories Count',\n",
    "                                     xlabel='Category',\n",
    "                                     ylabel='Frequnecy');"
   ]
  },
  {
   "cell_type": "code",
   "execution_count": 351,
   "metadata": {
    "colab": {
     "base_uri": "https://localhost:8080/",
     "height": 343
    },
    "id": "F-NUnVI1wNDn",
    "outputId": "1502f212-f0d1-49ad-bc80-0dfe90b26264"
   },
   "outputs": [
    {
     "data": {
      "image/png": "[encoded data removed]",
      "text/plain": [
       "<Figure size 432x288 with 1 Axes>"
      ]
     },
     "metadata": {
      "needs_background": "light"
     },
     "output_type": "display_data"
    }
   ],
   "source": [
    "data['Sub-Category'].value_counts().plot(kind='bar',\n",
    "                                     title='Sub-Categories Count',\n",
    "                                     xlabel='Sub-Category',\n",
    "                                     ylabel='Frequnecy');"
   ]
  },
  {
   "cell_type": "code",
   "execution_count": 352,
   "metadata": {
    "colab": {
     "base_uri": "https://localhost:8080/",
     "height": 613
    },
    "id": "ulrXIUyKwgBU",
    "outputId": "f7c13c37-909d-4e3b-8cda-32e46c3c90af"
   },
   "outputs": [
    {
     "data": {
      "text/html": [
       "<div>\n",
       "<style scoped>\n",
       "    .dataframe tbody tr th:only-of-type {\n",
       "        vertical-align: middle;\n",
       "    }\n",
       "\n",
       "    .dataframe tbody tr th {\n",
       "        vertical-align: top;\n",
       "    }\n",
       "\n",
       "    .dataframe thead th {\n",
       "        text-align: right;\n",
       "    }\n",
       "</style>\n",
       "<table border=\"1\" class=\"dataframe\">\n",
       "  <thead>\n",
       "    <tr style=\"text-align: right;\">\n",
       "      <th></th>\n",
       "      <th></th>\n",
       "      <th>Sub-Category</th>\n",
       "    </tr>\n",
       "    <tr>\n",
       "      <th>Category</th>\n",
       "      <th>Sub-Category</th>\n",
       "      <th></th>\n",
       "    </tr>\n",
       "  </thead>\n",
       "  <tbody>\n",
       "    <tr>\n",
       "      <th rowspan=\"4\" valign=\"top\">Furniture</th>\n",
       "      <th>Chairs</th>\n",
       "      <td>3434</td>\n",
       "    </tr>\n",
       "    <tr>\n",
       "      <th>Furnishings</th>\n",
       "      <td>3170</td>\n",
       "    </tr>\n",
       "    <tr>\n",
       "      <th>Bookcases</th>\n",
       "      <td>2411</td>\n",
       "    </tr>\n",
       "    <tr>\n",
       "      <th>Tables</th>\n",
       "      <td>861</td>\n",
       "    </tr>\n",
       "    <tr>\n",
       "      <th rowspan=\"9\" valign=\"top\">Office Supplies</th>\n",
       "      <th>Binders</th>\n",
       "      <td>6152</td>\n",
       "    </tr>\n",
       "    <tr>\n",
       "      <th>Storage</th>\n",
       "      <td>5059</td>\n",
       "    </tr>\n",
       "    <tr>\n",
       "      <th>Art</th>\n",
       "      <td>4883</td>\n",
       "    </tr>\n",
       "    <tr>\n",
       "      <th>Paper</th>\n",
       "      <td>3538</td>\n",
       "    </tr>\n",
       "    <tr>\n",
       "      <th>Labels</th>\n",
       "      <td>2606</td>\n",
       "    </tr>\n",
       "    <tr>\n",
       "      <th>Envelopes</th>\n",
       "      <td>2435</td>\n",
       "    </tr>\n",
       "    <tr>\n",
       "      <th>Supplies</th>\n",
       "      <td>2425</td>\n",
       "    </tr>\n",
       "    <tr>\n",
       "      <th>Fasteners</th>\n",
       "      <td>2420</td>\n",
       "    </tr>\n",
       "    <tr>\n",
       "      <th>Appliances</th>\n",
       "      <td>1755</td>\n",
       "    </tr>\n",
       "    <tr>\n",
       "      <th rowspan=\"4\" valign=\"top\">Technology</th>\n",
       "      <th>Phones</th>\n",
       "      <td>3357</td>\n",
       "    </tr>\n",
       "    <tr>\n",
       "      <th>Accessories</th>\n",
       "      <td>3075</td>\n",
       "    </tr>\n",
       "    <tr>\n",
       "      <th>Copiers</th>\n",
       "      <td>2223</td>\n",
       "    </tr>\n",
       "    <tr>\n",
       "      <th>Machines</th>\n",
       "      <td>1486</td>\n",
       "    </tr>\n",
       "  </tbody>\n",
       "</table>\n",
       "</div>"
      ],
      "text/plain": [
       "                              Sub-Category\n",
       "Category        Sub-Category              \n",
       "Furniture       Chairs                3434\n",
       "                Furnishings           3170\n",
       "                Bookcases             2411\n",
       "                Tables                 861\n",
       "Office Supplies Binders               6152\n",
       "                Storage               5059\n",
       "                Art                   4883\n",
       "                Paper                 3538\n",
       "                Labels                2606\n",
       "                Envelopes             2435\n",
       "                Supplies              2425\n",
       "                Fasteners             2420\n",
       "                Appliances            1755\n",
       "Technology      Phones                3357\n",
       "                Accessories           3075\n",
       "                Copiers               2223\n",
       "                Machines              1486"
      ]
     },
     "execution_count": 352,
     "metadata": {},
     "output_type": "execute_result"
    }
   ],
   "source": [
    "data.groupby('Category')['Sub-Category'].value_counts().to_frame()"
   ]
  },
  {
   "cell_type": "code",
   "execution_count": 353,
   "metadata": {
    "colab": {
     "base_uri": "https://localhost:8080/",
     "height": 592
    },
    "id": "-PSHC3RhwnEP",
    "outputId": "9e74b2cd-1c88-439a-ed55-c87223898165"
   },
   "outputs": [
    {
     "data": {
      "image/png": "[encoded data removed]",
      "text/plain": [
       "<Figure size 1080x720 with 1 Axes>"
      ]
     },
     "metadata": {
      "needs_background": "light"
     },
     "output_type": "display_data"
    }
   ],
   "source": [
    "data.groupby('Category')['Segment'].value_counts().to_frame().plot(kind='barh', figsize=(15,10));"
   ]
  },
  {
   "cell_type": "code",
   "execution_count": 354,
   "metadata": {
    "colab": {
     "base_uri": "https://localhost:8080/",
     "height": 1000
    },
    "id": "S7cMtyXixbeX",
    "outputId": "1f72eec0-4145-4aff-f368-055ba3dfa2ae"
   },
   "outputs": [
    {
     "data": {
      "text/html": [
       "<div>\n",
       "<style scoped>\n",
       "    .dataframe tbody tr th:only-of-type {\n",
       "        vertical-align: middle;\n",
       "    }\n",
       "\n",
       "    .dataframe tbody tr th {\n",
       "        vertical-align: top;\n",
       "    }\n",
       "\n",
       "    .dataframe thead th {\n",
       "        text-align: right;\n",
       "    }\n",
       "</style>\n",
       "<table border=\"1\" class=\"dataframe\">\n",
       "  <thead>\n",
       "    <tr style=\"text-align: right;\">\n",
       "      <th></th>\n",
       "      <th></th>\n",
       "      <th>Segment</th>\n",
       "    </tr>\n",
       "    <tr>\n",
       "      <th>Region</th>\n",
       "      <th>Segment</th>\n",
       "      <th></th>\n",
       "    </tr>\n",
       "  </thead>\n",
       "  <tbody>\n",
       "    <tr>\n",
       "      <th rowspan=\"3\" valign=\"top\">Africa</th>\n",
       "      <th>Consumer</th>\n",
       "      <td>2381</td>\n",
       "    </tr>\n",
       "    <tr>\n",
       "      <th>Corporate</th>\n",
       "      <td>1312</td>\n",
       "    </tr>\n",
       "    <tr>\n",
       "      <th>Home Office</th>\n",
       "      <td>894</td>\n",
       "    </tr>\n",
       "    <tr>\n",
       "      <th rowspan=\"3\" valign=\"top\">Canada</th>\n",
       "      <th>Consumer</th>\n",
       "      <td>202</td>\n",
       "    </tr>\n",
       "    <tr>\n",
       "      <th>Corporate</th>\n",
       "      <td>110</td>\n",
       "    </tr>\n",
       "    <tr>\n",
       "      <th>Home Office</th>\n",
       "      <td>72</td>\n",
       "    </tr>\n",
       "    <tr>\n",
       "      <th rowspan=\"3\" valign=\"top\">Caribbean</th>\n",
       "      <th>Consumer</th>\n",
       "      <td>828</td>\n",
       "    </tr>\n",
       "    <tr>\n",
       "      <th>Corporate</th>\n",
       "      <td>507</td>\n",
       "    </tr>\n",
       "    <tr>\n",
       "      <th>Home Office</th>\n",
       "      <td>355</td>\n",
       "    </tr>\n",
       "    <tr>\n",
       "      <th rowspan=\"3\" valign=\"top\">Central</th>\n",
       "      <th>Consumer</th>\n",
       "      <td>5782</td>\n",
       "    </tr>\n",
       "    <tr>\n",
       "      <th>Corporate</th>\n",
       "      <td>3321</td>\n",
       "    </tr>\n",
       "    <tr>\n",
       "      <th>Home Office</th>\n",
       "      <td>2014</td>\n",
       "    </tr>\n",
       "    <tr>\n",
       "      <th rowspan=\"3\" valign=\"top\">Central Asia</th>\n",
       "      <th>Consumer</th>\n",
       "      <td>1042</td>\n",
       "    </tr>\n",
       "    <tr>\n",
       "      <th>Corporate</th>\n",
       "      <td>613</td>\n",
       "    </tr>\n",
       "    <tr>\n",
       "      <th>Home Office</th>\n",
       "      <td>393</td>\n",
       "    </tr>\n",
       "    <tr>\n",
       "      <th rowspan=\"3\" valign=\"top\">EMEA</th>\n",
       "      <th>Consumer</th>\n",
       "      <td>2538</td>\n",
       "    </tr>\n",
       "    <tr>\n",
       "      <th>Corporate</th>\n",
       "      <td>1574</td>\n",
       "    </tr>\n",
       "    <tr>\n",
       "      <th>Home Office</th>\n",
       "      <td>917</td>\n",
       "    </tr>\n",
       "    <tr>\n",
       "      <th rowspan=\"3\" valign=\"top\">East</th>\n",
       "      <th>Consumer</th>\n",
       "      <td>1469</td>\n",
       "    </tr>\n",
       "    <tr>\n",
       "      <th>Corporate</th>\n",
       "      <td>877</td>\n",
       "    </tr>\n",
       "    <tr>\n",
       "      <th>Home Office</th>\n",
       "      <td>502</td>\n",
       "    </tr>\n",
       "    <tr>\n",
       "      <th rowspan=\"3\" valign=\"top\">North</th>\n",
       "      <th>Consumer</th>\n",
       "      <td>2468</td>\n",
       "    </tr>\n",
       "    <tr>\n",
       "      <th>Corporate</th>\n",
       "      <td>1487</td>\n",
       "    </tr>\n",
       "    <tr>\n",
       "      <th>Home Office</th>\n",
       "      <td>830</td>\n",
       "    </tr>\n",
       "    <tr>\n",
       "      <th rowspan=\"3\" valign=\"top\">North Asia</th>\n",
       "      <th>Consumer</th>\n",
       "      <td>1170</td>\n",
       "    </tr>\n",
       "    <tr>\n",
       "      <th>Corporate</th>\n",
       "      <td>708</td>\n",
       "    </tr>\n",
       "    <tr>\n",
       "      <th>Home Office</th>\n",
       "      <td>460</td>\n",
       "    </tr>\n",
       "    <tr>\n",
       "      <th rowspan=\"3\" valign=\"top\">Oceania</th>\n",
       "      <th>Consumer</th>\n",
       "      <td>1837</td>\n",
       "    </tr>\n",
       "    <tr>\n",
       "      <th>Corporate</th>\n",
       "      <td>1053</td>\n",
       "    </tr>\n",
       "    <tr>\n",
       "      <th>Home Office</th>\n",
       "      <td>597</td>\n",
       "    </tr>\n",
       "    <tr>\n",
       "      <th rowspan=\"3\" valign=\"top\">South</th>\n",
       "      <th>Consumer</th>\n",
       "      <td>3479</td>\n",
       "    </tr>\n",
       "    <tr>\n",
       "      <th>Corporate</th>\n",
       "      <td>1998</td>\n",
       "    </tr>\n",
       "    <tr>\n",
       "      <th>Home Office</th>\n",
       "      <td>1168</td>\n",
       "    </tr>\n",
       "    <tr>\n",
       "      <th rowspan=\"3\" valign=\"top\">Southeast Asia</th>\n",
       "      <th>Consumer</th>\n",
       "      <td>1650</td>\n",
       "    </tr>\n",
       "    <tr>\n",
       "      <th>Corporate</th>\n",
       "      <td>909</td>\n",
       "    </tr>\n",
       "    <tr>\n",
       "      <th>Home Office</th>\n",
       "      <td>570</td>\n",
       "    </tr>\n",
       "    <tr>\n",
       "      <th rowspan=\"3\" valign=\"top\">West</th>\n",
       "      <th>Consumer</th>\n",
       "      <td>1672</td>\n",
       "    </tr>\n",
       "    <tr>\n",
       "      <th>Corporate</th>\n",
       "      <td>960</td>\n",
       "    </tr>\n",
       "    <tr>\n",
       "      <th>Home Office</th>\n",
       "      <td>571</td>\n",
       "    </tr>\n",
       "  </tbody>\n",
       "</table>\n",
       "</div>"
      ],
      "text/plain": [
       "                            Segment\n",
       "Region         Segment             \n",
       "Africa         Consumer        2381\n",
       "               Corporate       1312\n",
       "               Home Office      894\n",
       "Canada         Consumer         202\n",
       "               Corporate        110\n",
       "               Home Office       72\n",
       "Caribbean      Consumer         828\n",
       "               Corporate        507\n",
       "               Home Office      355\n",
       "Central        Consumer        5782\n",
       "               Corporate       3321\n",
       "               Home Office     2014\n",
       "Central Asia   Consumer        1042\n",
       "               Corporate        613\n",
       "               Home Office      393\n",
       "EMEA           Consumer        2538\n",
       "               Corporate       1574\n",
       "               Home Office      917\n",
       "East           Consumer        1469\n",
       "               Corporate        877\n",
       "               Home Office      502\n",
       "North          Consumer        2468\n",
       "               Corporate       1487\n",
       "               Home Office      830\n",
       "North Asia     Consumer        1170\n",
       "               Corporate        708\n",
       "               Home Office      460\n",
       "Oceania        Consumer        1837\n",
       "               Corporate       1053\n",
       "               Home Office      597\n",
       "South          Consumer        3479\n",
       "               Corporate       1998\n",
       "               Home Office     1168\n",
       "Southeast Asia Consumer        1650\n",
       "               Corporate        909\n",
       "               Home Office      570\n",
       "West           Consumer        1672\n",
       "               Corporate        960\n",
       "               Home Office      571"
      ]
     },
     "execution_count": 354,
     "metadata": {},
     "output_type": "execute_result"
    }
   ],
   "source": [
    "data.groupby('Region')['Segment'].value_counts().to_frame()"
   ]
  },
  {
   "cell_type": "code",
   "execution_count": 355,
   "metadata": {
    "colab": {
     "base_uri": "https://localhost:8080/",
     "height": 878
    },
    "id": "uc3qOGGixmhn",
    "outputId": "d2ea9d18-4494-4e34-93a2-609d8a5e89bc"
   },
   "outputs": [
    {
     "data": {
      "image/png": "[encoded data removed]",
      "text/plain": [
       "<Figure size 1440x1080 with 1 Axes>"
      ]
     },
     "metadata": {
      "needs_background": "light"
     },
     "output_type": "display_data"
    }
   ],
   "source": [
    "data.groupby('Region')['Category'].value_counts().to_frame().plot(kind='barh',figsize=(20,15), title='Region by Category Count');"
   ]
  },
  {
   "cell_type": "code",
   "execution_count": 356,
   "metadata": {
    "colab": {
     "base_uri": "https://localhost:8080/",
     "height": 296
    },
    "id": "bxQnNB-V3wJq",
    "outputId": "33f09dcd-a00a-43d5-8218-55243f3402b7"
   },
   "outputs": [
    {
     "data": {
      "text/html": [
       "<div>\n",
       "<style scoped>\n",
       "    .dataframe tbody tr th:only-of-type {\n",
       "        vertical-align: middle;\n",
       "    }\n",
       "\n",
       "    .dataframe tbody tr th {\n",
       "        vertical-align: top;\n",
       "    }\n",
       "\n",
       "    .dataframe thead th {\n",
       "        text-align: right;\n",
       "    }\n",
       "</style>\n",
       "<table border=\"1\" class=\"dataframe\">\n",
       "  <thead>\n",
       "    <tr style=\"text-align: right;\">\n",
       "      <th></th>\n",
       "      <th>Row ID</th>\n",
       "      <th>Order ID</th>\n",
       "      <th>Order Date</th>\n",
       "      <th>Ship Date</th>\n",
       "      <th>Ship Mode</th>\n",
       "      <th>Customer ID</th>\n",
       "      <th>Customer Name</th>\n",
       "      <th>Segment</th>\n",
       "      <th>City</th>\n",
       "      <th>State</th>\n",
       "      <th>...</th>\n",
       "      <th>Category</th>\n",
       "      <th>Sub-Category</th>\n",
       "      <th>Product Name</th>\n",
       "      <th>Sales</th>\n",
       "      <th>Quantity</th>\n",
       "      <th>Discount</th>\n",
       "      <th>Profit</th>\n",
       "      <th>Shipping Cost</th>\n",
       "      <th>Order Priority</th>\n",
       "      <th>Order-Ship Date</th>\n",
       "    </tr>\n",
       "  </thead>\n",
       "  <tbody>\n",
       "    <tr>\n",
       "      <th>0</th>\n",
       "      <td>32298</td>\n",
       "      <td>CA-2012-124891</td>\n",
       "      <td>2012-07-31</td>\n",
       "      <td>2012-07-31</td>\n",
       "      <td>Same Day</td>\n",
       "      <td>RH-19495</td>\n",
       "      <td>Rick Hansen</td>\n",
       "      <td>Consumer</td>\n",
       "      <td>New York City</td>\n",
       "      <td>New York</td>\n",
       "      <td>...</td>\n",
       "      <td>Technology</td>\n",
       "      <td>Accessories</td>\n",
       "      <td>Plantronics CS510 - Over-the-Head monaural Wir...</td>\n",
       "      <td>2309.65</td>\n",
       "      <td>7</td>\n",
       "      <td>0.0</td>\n",
       "      <td>762.1845</td>\n",
       "      <td>933.57</td>\n",
       "      <td>Critical</td>\n",
       "      <td>0</td>\n",
       "    </tr>\n",
       "  </tbody>\n",
       "</table>\n",
       "<p>1 rows × 24 columns</p>\n",
       "</div>"
      ],
      "text/plain": [
       "   Row ID        Order ID Order Date  Ship Date Ship Mode Customer ID  \\\n",
       "0   32298  CA-2012-124891 2012-07-31 2012-07-31  Same Day    RH-19495   \n",
       "\n",
       "  Customer Name   Segment           City     State  ...    Category  \\\n",
       "0   Rick Hansen  Consumer  New York City  New York  ...  Technology   \n",
       "\n",
       "  Sub-Category                                       Product Name    Sales  \\\n",
       "0  Accessories  Plantronics CS510 - Over-the-Head monaural Wir...  2309.65   \n",
       "\n",
       "  Quantity Discount    Profit  Shipping Cost  Order Priority  Order-Ship Date  \n",
       "0        7      0.0  762.1845         933.57        Critical                0  \n",
       "\n",
       "[1 rows x 24 columns]"
      ]
     },
     "execution_count": 356,
     "metadata": {},
     "output_type": "execute_result"
    }
   ],
   "source": [
    "# minimal test\n",
    "data.head(1)"
   ]
  },
  {
   "cell_type": "code",
   "execution_count": 357,
   "metadata": {
    "id": "P_eFxHRNayeq"
   },
   "outputs": [],
   "source": [
    "pivot_df = pd.pivot_table(data,index = 'Order ID',columns = 'Product Name',values = 'Order Priority',aggfunc = 'count')\n",
    "pivot_df.reset_index(inplace=True)\n",
    "pivot_df = pivot_df.fillna(0)\n",
    "pivot_df = pivot_df.drop('Order ID', axis=1)"
   ]
  },
  {
   "cell_type": "code",
   "execution_count": 358,
   "metadata": {},
   "outputs": [
    {
     "data": {
      "text/html": [
       "<div>\n",
       "<style scoped>\n",
       "    .dataframe tbody tr th:only-of-type {\n",
       "        vertical-align: middle;\n",
       "    }\n",
       "\n",
       "    .dataframe tbody tr th {\n",
       "        vertical-align: top;\n",
       "    }\n",
       "\n",
       "    .dataframe thead th {\n",
       "        text-align: right;\n",
       "    }\n",
       "</style>\n",
       "<table border=\"1\" class=\"dataframe\">\n",
       "  <thead>\n",
       "    <tr style=\"text-align: right;\">\n",
       "      <th>Product Name</th>\n",
       "      <th>\"While you Were Out\" Message Book, One Form per Page</th>\n",
       "      <th>#10 Gummed Flap White Envelopes, 100/Box</th>\n",
       "      <th>#10 Self-Seal White Envelopes</th>\n",
       "      <th>#10 White Business Envelopes,4 1/8 x 9 1/2</th>\n",
       "      <th>#10- 4 1/8\" x 9 1/2\" Recycled Envelopes</th>\n",
       "      <th>#10- 4 1/8\" x 9 1/2\" Security-Tint Envelopes</th>\n",
       "      <th>#10-4 1/8\" x 9 1/2\" Premium Diagonal Seam Envelopes</th>\n",
       "      <th>#6 3/4 Gummed Flap White Envelopes</th>\n",
       "      <th>1.7 Cubic Foot Compact \"Cube\" Office Refrigerators</th>\n",
       "      <th>1/4 Fold Party Design Invitations &amp; White Envelopes, 24 8-1/2\" X 11\" Cards, 25 Env./Pack</th>\n",
       "      <th>...</th>\n",
       "      <th>Zebra ZM400 Thermal Label Printer</th>\n",
       "      <th>Zebra Zazzle Fluorescent Highlighters</th>\n",
       "      <th>Zipper Ring Binder Pockets</th>\n",
       "      <th>i.Sound Portable Power - 8000 mAh</th>\n",
       "      <th>iHome FM Clock Radio with Lightning Dock</th>\n",
       "      <th>iKross Bluetooth Portable Keyboard + Cell Phone Stand Holder + Brush for Apple iPhone 5S 5C 5, 4S 4</th>\n",
       "      <th>iOttie HLCRIO102 Car Mount</th>\n",
       "      <th>iOttie XL Car Mount</th>\n",
       "      <th>invisibleSHIELD by ZAGG Smudge-Free Screen Protector</th>\n",
       "      <th>netTALK DUO VoIP Telephone Service</th>\n",
       "    </tr>\n",
       "  </thead>\n",
       "  <tbody>\n",
       "    <tr>\n",
       "      <th>0</th>\n",
       "      <td>0.0</td>\n",
       "      <td>0.0</td>\n",
       "      <td>0.0</td>\n",
       "      <td>0.0</td>\n",
       "      <td>0.0</td>\n",
       "      <td>0.0</td>\n",
       "      <td>0.0</td>\n",
       "      <td>0.0</td>\n",
       "      <td>0.0</td>\n",
       "      <td>0.0</td>\n",
       "      <td>...</td>\n",
       "      <td>0.0</td>\n",
       "      <td>0.0</td>\n",
       "      <td>0.0</td>\n",
       "      <td>0.0</td>\n",
       "      <td>0.0</td>\n",
       "      <td>0.0</td>\n",
       "      <td>0.0</td>\n",
       "      <td>0.0</td>\n",
       "      <td>0.0</td>\n",
       "      <td>0.0</td>\n",
       "    </tr>\n",
       "    <tr>\n",
       "      <th>1</th>\n",
       "      <td>0.0</td>\n",
       "      <td>0.0</td>\n",
       "      <td>0.0</td>\n",
       "      <td>0.0</td>\n",
       "      <td>0.0</td>\n",
       "      <td>0.0</td>\n",
       "      <td>0.0</td>\n",
       "      <td>0.0</td>\n",
       "      <td>0.0</td>\n",
       "      <td>0.0</td>\n",
       "      <td>...</td>\n",
       "      <td>0.0</td>\n",
       "      <td>0.0</td>\n",
       "      <td>0.0</td>\n",
       "      <td>0.0</td>\n",
       "      <td>0.0</td>\n",
       "      <td>0.0</td>\n",
       "      <td>0.0</td>\n",
       "      <td>0.0</td>\n",
       "      <td>0.0</td>\n",
       "      <td>0.0</td>\n",
       "    </tr>\n",
       "  </tbody>\n",
       "</table>\n",
       "<p>2 rows × 3788 columns</p>\n",
       "</div>"
      ],
      "text/plain": [
       "Product Name  \"While you Were Out\" Message Book, One Form per Page  \\\n",
       "0                                                           0.0      \n",
       "1                                                           0.0      \n",
       "\n",
       "Product Name  #10 Gummed Flap White Envelopes, 100/Box  \\\n",
       "0                                                  0.0   \n",
       "1                                                  0.0   \n",
       "\n",
       "Product Name  #10 Self-Seal White Envelopes  \\\n",
       "0                                       0.0   \n",
       "1                                       0.0   \n",
       "\n",
       "Product Name  #10 White Business Envelopes,4 1/8 x 9 1/2  \\\n",
       "0                                                    0.0   \n",
       "1                                                    0.0   \n",
       "\n",
       "Product Name  #10- 4 1/8\" x 9 1/2\" Recycled Envelopes  \\\n",
       "0                                                 0.0   \n",
       "1                                                 0.0   \n",
       "\n",
       "Product Name  #10- 4 1/8\" x 9 1/2\" Security-Tint Envelopes  \\\n",
       "0                                                      0.0   \n",
       "1                                                      0.0   \n",
       "\n",
       "Product Name  #10-4 1/8\" x 9 1/2\" Premium Diagonal Seam Envelopes  \\\n",
       "0                                                           0.0     \n",
       "1                                                           0.0     \n",
       "\n",
       "Product Name  #6 3/4 Gummed Flap White Envelopes  \\\n",
       "0                                            0.0   \n",
       "1                                            0.0   \n",
       "\n",
       "Product Name  1.7 Cubic Foot Compact \"Cube\" Office Refrigerators  \\\n",
       "0                                                           0.0    \n",
       "1                                                           0.0    \n",
       "\n",
       "Product Name  1/4 Fold Party Design Invitations & White Envelopes, 24 8-1/2\" X 11\" Cards, 25 Env./Pack  \\\n",
       "0                                                           0.0                                          \n",
       "1                                                           0.0                                          \n",
       "\n",
       "Product Name  ...  Zebra ZM400 Thermal Label Printer  \\\n",
       "0             ...                                0.0   \n",
       "1             ...                                0.0   \n",
       "\n",
       "Product Name  Zebra Zazzle Fluorescent Highlighters  \\\n",
       "0                                               0.0   \n",
       "1                                               0.0   \n",
       "\n",
       "Product Name  Zipper Ring Binder Pockets  i.Sound Portable Power - 8000 mAh  \\\n",
       "0                                    0.0                                0.0   \n",
       "1                                    0.0                                0.0   \n",
       "\n",
       "Product Name  iHome FM Clock Radio with Lightning Dock  \\\n",
       "0                                                  0.0   \n",
       "1                                                  0.0   \n",
       "\n",
       "Product Name  iKross Bluetooth Portable Keyboard + Cell Phone Stand Holder + Brush for Apple iPhone 5S 5C 5, 4S 4  \\\n",
       "0                                                           0.0                                                     \n",
       "1                                                           0.0                                                     \n",
       "\n",
       "Product Name  iOttie HLCRIO102 Car Mount  iOttie XL Car Mount  \\\n",
       "0                                    0.0                  0.0   \n",
       "1                                    0.0                  0.0   \n",
       "\n",
       "Product Name  invisibleSHIELD by ZAGG Smudge-Free Screen Protector  \\\n",
       "0                                                           0.0      \n",
       "1                                                           0.0      \n",
       "\n",
       "Product Name  netTALK DUO VoIP Telephone Service  \n",
       "0                                            0.0  \n",
       "1                                            0.0  \n",
       "\n",
       "[2 rows x 3788 columns]"
      ]
     },
     "execution_count": 358,
     "metadata": {},
     "output_type": "execute_result"
    }
   ],
   "source": [
    "pivot_df.head(2)"
   ]
  },
  {
   "cell_type": "code",
   "execution_count": 359,
   "metadata": {
    "id": "FfS_5RuSaz-Q"
   },
   "outputs": [],
   "source": [
    "co_matrix = pivot_df.T.dot(pivot_df)\n",
    "np.fill_diagonal(co_matrix.values, 0)\n",
    "\n",
    "cos_score_df = pd.DataFrame(cosine_similarity(co_matrix))\n",
    "cos_score_df.index = co_matrix.index\n",
    "cos_score_df.columns = np.array(co_matrix.index)"
   ]
  },
  {
   "cell_type": "code",
   "execution_count": 360,
   "metadata": {
    "id": "31XHO5zTbyZ8"
   },
   "outputs": [],
   "source": [
    "#Take top five scoring recs that aren't the original product\n",
    "product_recs = []\n",
    "for i in cos_score_df.index:\n",
    "    product_recs.append(cos_score_df[cos_score_df.index!=i][i].sort_values(ascending = False)[0:5].index)\n",
    "    \n",
    "product_recs_df = pd.DataFrame(product_recs)\n",
    "product_recs_df.index = cos_score_df.index"
   ]
  },
  {
   "cell_type": "code",
   "execution_count": 361,
   "metadata": {},
   "outputs": [
    {
     "data": {
      "text/html": [
       "<div>\n",
       "<style scoped>\n",
       "    .dataframe tbody tr th:only-of-type {\n",
       "        vertical-align: middle;\n",
       "    }\n",
       "\n",
       "    .dataframe tbody tr th {\n",
       "        vertical-align: top;\n",
       "    }\n",
       "\n",
       "    .dataframe thead th {\n",
       "        text-align: right;\n",
       "    }\n",
       "</style>\n",
       "<table border=\"1\" class=\"dataframe\">\n",
       "  <thead>\n",
       "    <tr style=\"text-align: right;\">\n",
       "      <th></th>\n",
       "      <th>0</th>\n",
       "      <th>1</th>\n",
       "      <th>2</th>\n",
       "      <th>3</th>\n",
       "      <th>4</th>\n",
       "    </tr>\n",
       "    <tr>\n",
       "      <th>Product Name</th>\n",
       "      <th></th>\n",
       "      <th></th>\n",
       "      <th></th>\n",
       "      <th></th>\n",
       "      <th></th>\n",
       "    </tr>\n",
       "  </thead>\n",
       "  <tbody>\n",
       "    <tr>\n",
       "      <th>\"While you Were Out\" Message Book, One Form per Page</th>\n",
       "      <td>Avery 500</td>\n",
       "      <td>4009 Highlighters by Sanford</td>\n",
       "      <td>Acco 7-Outlet Masterpiece Power Center, Wihtou...</td>\n",
       "      <td>Geemarc AmpliPOWER60</td>\n",
       "      <td>Global Leather Task Chair, Black</td>\n",
       "    </tr>\n",
       "    <tr>\n",
       "      <th>#10 Gummed Flap White Envelopes, 100/Box</th>\n",
       "      <td>Dixon Prang Watercolor Pencils, 10-Color Set w...</td>\n",
       "      <td>Sauder Barrister Bookcases</td>\n",
       "      <td>Newell 331</td>\n",
       "      <td>Southworth Structures Collection</td>\n",
       "      <td>Iceberg Nesting Folding Chair, 19w x 6d x 43h</td>\n",
       "    </tr>\n",
       "    <tr>\n",
       "      <th>#10 Self-Seal White Envelopes</th>\n",
       "      <td>Verbatim Slim CD and DVD Storage Cases, 50/Pack</td>\n",
       "      <td>Acme Design Stainless Steel Bent Scissors</td>\n",
       "      <td>Avery 491</td>\n",
       "      <td>Acme Kleencut Forged Steel Scissors</td>\n",
       "      <td>GBC Twin Loop Wire Binding Elements, 9/16\" Spi...</td>\n",
       "    </tr>\n",
       "    <tr>\n",
       "      <th>#10 White Business Envelopes,4 1/8 x 9 1/2</th>\n",
       "      <td>AT&amp;T 1080 Phone</td>\n",
       "      <td>Newell 34</td>\n",
       "      <td>Bush Cubix Collection Bookcases, Fully Assembled</td>\n",
       "      <td>Anker 36W 4-Port USB Wall Charger Travel Power...</td>\n",
       "      <td>Xerox 1971</td>\n",
       "    </tr>\n",
       "    <tr>\n",
       "      <th>#10- 4 1/8\" x 9 1/2\" Recycled Envelopes</th>\n",
       "      <td>Xiaomi Mi3</td>\n",
       "      <td>Binder Posts</td>\n",
       "      <td>Wasp CCD Handheld Bar Code Reader</td>\n",
       "      <td>GE 4 Foot Flourescent Tube, 40 Watt</td>\n",
       "      <td>Bevis Round Conference Table Top &amp; Single Colu...</td>\n",
       "    </tr>\n",
       "    <tr>\n",
       "      <th>...</th>\n",
       "      <td>...</td>\n",
       "      <td>...</td>\n",
       "      <td>...</td>\n",
       "      <td>...</td>\n",
       "      <td>...</td>\n",
       "    </tr>\n",
       "    <tr>\n",
       "      <th>iKross Bluetooth Portable Keyboard + Cell Phone Stand Holder + Brush for Apple iPhone 5S 5C 5, 4S 4</th>\n",
       "      <td>Eldon Imàge Series Desk Accessories, Clear</td>\n",
       "      <td>Avery 491</td>\n",
       "      <td>Design Ebony Sketching Pencil</td>\n",
       "      <td>Eldon 200 Class Desk Accessories, Burgundy</td>\n",
       "      <td>Weyerhaeuser First Choice Laser/Copy Paper (20...</td>\n",
       "    </tr>\n",
       "    <tr>\n",
       "      <th>iOttie HLCRIO102 Car Mount</th>\n",
       "      <td>Griffin GC36547 PowerJolt SE Lightning Charger</td>\n",
       "      <td>Faber Castell Col-Erase Pencils</td>\n",
       "      <td>Bush Westfield Collection Bookcases, Dark Cher...</td>\n",
       "      <td>BOSTON Ranger #55 Pencil Sharpener, Black</td>\n",
       "      <td>Tensor Track Tree Floor Lamp</td>\n",
       "    </tr>\n",
       "    <tr>\n",
       "      <th>iOttie XL Car Mount</th>\n",
       "      <td>Xerox 1894</td>\n",
       "      <td>Ibico Ibimaster 300 Manual Binding System</td>\n",
       "      <td>Xerox 225</td>\n",
       "      <td>Office Star - Contemporary Task Swivel Chair</td>\n",
       "      <td>Logitech M510 Wireless Mouse</td>\n",
       "    </tr>\n",
       "    <tr>\n",
       "      <th>invisibleSHIELD by ZAGG Smudge-Free Screen Protector</th>\n",
       "      <td>Recycled Interoffice Envelopes with Re-Use-A-S...</td>\n",
       "      <td>Xerox 1905</td>\n",
       "      <td>Avery Hidden Tab Dividers for Binding Systems</td>\n",
       "      <td>GE General Purpose, Extra Long Life, Showcase ...</td>\n",
       "      <td>GBC Wire Binding Combs</td>\n",
       "    </tr>\n",
       "    <tr>\n",
       "      <th>netTALK DUO VoIP Telephone Service</th>\n",
       "      <td>Acco Economy Flexible Poly Round Ring Binder</td>\n",
       "      <td>Boston 1900 Electric Pencil Sharpener</td>\n",
       "      <td>AT&amp;T CL2909</td>\n",
       "      <td>DAX Two-Tone Silver Metal Document Frame</td>\n",
       "      <td>Eldon Image Series Desk Accessories, Burgundy</td>\n",
       "    </tr>\n",
       "  </tbody>\n",
       "</table>\n",
       "<p>3788 rows × 5 columns</p>\n",
       "</div>"
      ],
      "text/plain": [
       "                                                                                                    0  \\\n",
       "Product Name                                                                                            \n",
       "\"While you Were Out\" Message Book, One Form per...                                          Avery 500   \n",
       "#10 Gummed Flap White Envelopes, 100/Box            Dixon Prang Watercolor Pencils, 10-Color Set w...   \n",
       "#10 Self-Seal White Envelopes                         Verbatim Slim CD and DVD Storage Cases, 50/Pack   \n",
       "#10 White Business Envelopes,4 1/8 x 9 1/2                                            AT&T 1080 Phone   \n",
       "#10- 4 1/8\" x 9 1/2\" Recycled Envelopes                                                    Xiaomi Mi3   \n",
       "...                                                                                               ...   \n",
       "iKross Bluetooth Portable Keyboard + Cell Phone...         Eldon Imàge Series Desk Accessories, Clear   \n",
       "iOttie HLCRIO102 Car Mount                             Griffin GC36547 PowerJolt SE Lightning Charger   \n",
       "iOttie XL Car Mount                                                                        Xerox 1894   \n",
       "invisibleSHIELD by ZAGG Smudge-Free Screen Prot...  Recycled Interoffice Envelopes with Re-Use-A-S...   \n",
       "netTALK DUO VoIP Telephone Service                       Acco Economy Flexible Poly Round Ring Binder   \n",
       "\n",
       "                                                                                            1  \\\n",
       "Product Name                                                                                    \n",
       "\"While you Were Out\" Message Book, One Form per...               4009 Highlighters by Sanford   \n",
       "#10 Gummed Flap White Envelopes, 100/Box                           Sauder Barrister Bookcases   \n",
       "#10 Self-Seal White Envelopes                       Acme Design Stainless Steel Bent Scissors   \n",
       "#10 White Business Envelopes,4 1/8 x 9 1/2                                          Newell 34   \n",
       "#10- 4 1/8\" x 9 1/2\" Recycled Envelopes                                          Binder Posts   \n",
       "...                                                                                       ...   \n",
       "iKross Bluetooth Portable Keyboard + Cell Phone...                                  Avery 491   \n",
       "iOttie HLCRIO102 Car Mount                                    Faber Castell Col-Erase Pencils   \n",
       "iOttie XL Car Mount                                 Ibico Ibimaster 300 Manual Binding System   \n",
       "invisibleSHIELD by ZAGG Smudge-Free Screen Prot...                                 Xerox 1905   \n",
       "netTALK DUO VoIP Telephone Service                      Boston 1900 Electric Pencil Sharpener   \n",
       "\n",
       "                                                                                                    2  \\\n",
       "Product Name                                                                                            \n",
       "\"While you Were Out\" Message Book, One Form per...  Acco 7-Outlet Masterpiece Power Center, Wihtou...   \n",
       "#10 Gummed Flap White Envelopes, 100/Box                                                   Newell 331   \n",
       "#10 Self-Seal White Envelopes                                                               Avery 491   \n",
       "#10 White Business Envelopes,4 1/8 x 9 1/2           Bush Cubix Collection Bookcases, Fully Assembled   \n",
       "#10- 4 1/8\" x 9 1/2\" Recycled Envelopes                             Wasp CCD Handheld Bar Code Reader   \n",
       "...                                                                                               ...   \n",
       "iKross Bluetooth Portable Keyboard + Cell Phone...                      Design Ebony Sketching Pencil   \n",
       "iOttie HLCRIO102 Car Mount                          Bush Westfield Collection Bookcases, Dark Cher...   \n",
       "iOttie XL Car Mount                                                                         Xerox 225   \n",
       "invisibleSHIELD by ZAGG Smudge-Free Screen Prot...      Avery Hidden Tab Dividers for Binding Systems   \n",
       "netTALK DUO VoIP Telephone Service                                                        AT&T CL2909   \n",
       "\n",
       "                                                                                                    3  \\\n",
       "Product Name                                                                                            \n",
       "\"While you Were Out\" Message Book, One Form per...                               Geemarc AmpliPOWER60   \n",
       "#10 Gummed Flap White Envelopes, 100/Box                             Southworth Structures Collection   \n",
       "#10 Self-Seal White Envelopes                                     Acme Kleencut Forged Steel Scissors   \n",
       "#10 White Business Envelopes,4 1/8 x 9 1/2          Anker 36W 4-Port USB Wall Charger Travel Power...   \n",
       "#10- 4 1/8\" x 9 1/2\" Recycled Envelopes                           GE 4 Foot Flourescent Tube, 40 Watt   \n",
       "...                                                                                               ...   \n",
       "iKross Bluetooth Portable Keyboard + Cell Phone...         Eldon 200 Class Desk Accessories, Burgundy   \n",
       "iOttie HLCRIO102 Car Mount                                  BOSTON Ranger #55 Pencil Sharpener, Black   \n",
       "iOttie XL Car Mount                                      Office Star - Contemporary Task Swivel Chair   \n",
       "invisibleSHIELD by ZAGG Smudge-Free Screen Prot...  GE General Purpose, Extra Long Life, Showcase ...   \n",
       "netTALK DUO VoIP Telephone Service                           DAX Two-Tone Silver Metal Document Frame   \n",
       "\n",
       "                                                                                                    4  \n",
       "Product Name                                                                                           \n",
       "\"While you Were Out\" Message Book, One Form per...                   Global Leather Task Chair, Black  \n",
       "#10 Gummed Flap White Envelopes, 100/Box                Iceberg Nesting Folding Chair, 19w x 6d x 43h  \n",
       "#10 Self-Seal White Envelopes                       GBC Twin Loop Wire Binding Elements, 9/16\" Spi...  \n",
       "#10 White Business Envelopes,4 1/8 x 9 1/2                                                 Xerox 1971  \n",
       "#10- 4 1/8\" x 9 1/2\" Recycled Envelopes             Bevis Round Conference Table Top & Single Colu...  \n",
       "...                                                                                               ...  \n",
       "iKross Bluetooth Portable Keyboard + Cell Phone...  Weyerhaeuser First Choice Laser/Copy Paper (20...  \n",
       "iOttie HLCRIO102 Car Mount                                               Tensor Track Tree Floor Lamp  \n",
       "iOttie XL Car Mount                                                      Logitech M510 Wireless Mouse  \n",
       "invisibleSHIELD by ZAGG Smudge-Free Screen Prot...                             GBC Wire Binding Combs  \n",
       "netTALK DUO VoIP Telephone Service                      Eldon Image Series Desk Accessories, Burgundy  \n",
       "\n",
       "[3788 rows x 5 columns]"
      ]
     },
     "execution_count": 361,
     "metadata": {},
     "output_type": "execute_result"
    }
   ],
   "source": [
    "product_recs_df"
   ]
  },
  {
   "cell_type": "code",
   "execution_count": 362,
   "metadata": {
    "colab": {
     "base_uri": "https://localhost:8080/"
    },
    "id": "8k2VKkP5cGQ9",
    "outputId": "660de2d3-6df4-4be3-e0c7-55e24b96a0b0"
   },
   "outputs": [
    {
     "data": {
      "text/plain": [
       "0                    BIC Canvas, Easy-Erase\n",
       "1                   Breville Blender, Black\n",
       "2             Nokia Headset, with Caller ID\n",
       "3    Samsung Signal Booster, with Caller ID\n",
       "4     Dania Floating Shelf Set, Traditional\n",
       "Name: Nokia Smart Phone, with Caller ID, dtype: object"
      ]
     },
     "execution_count": 362,
     "metadata": {},
     "output_type": "execute_result"
    }
   ],
   "source": [
    "product_recs_df.loc['Nokia Smart Phone, with Caller ID']"
   ]
  },
  {
   "cell_type": "code",
   "execution_count": 363,
   "metadata": {},
   "outputs": [],
   "source": [
    "def recommend(df,item):\n",
    "    recs_products = list(df.loc[item])\n",
    "    \n",
    "    url = ['https://'+each +'.com' for each in df.loc[item].str.replace(' ','')]\n",
    "    price = [randint(100,1000) for i in range(len(df.loc[item]))]\n",
    "    \n",
    "    result = pd.DataFrame(url,recs_products, columns=['Url']).reset_index().rename(columns={'index':'Recommended Products'})\n",
    "    result['Price'] =price\n",
    "\n",
    "    return result"
   ]
  },
  {
   "cell_type": "code",
   "execution_count": 364,
   "metadata": {},
   "outputs": [
    {
     "data": {
      "text/html": [
       "<div>\n",
       "<style scoped>\n",
       "    .dataframe tbody tr th:only-of-type {\n",
       "        vertical-align: middle;\n",
       "    }\n",
       "\n",
       "    .dataframe tbody tr th {\n",
       "        vertical-align: top;\n",
       "    }\n",
       "\n",
       "    .dataframe thead th {\n",
       "        text-align: right;\n",
       "    }\n",
       "</style>\n",
       "<table border=\"1\" class=\"dataframe\">\n",
       "  <thead>\n",
       "    <tr style=\"text-align: right;\">\n",
       "      <th></th>\n",
       "      <th>Recommended Products</th>\n",
       "      <th>Url</th>\n",
       "      <th>Price</th>\n",
       "    </tr>\n",
       "  </thead>\n",
       "  <tbody>\n",
       "    <tr>\n",
       "      <th>0</th>\n",
       "      <td>BIC Canvas, Easy-Erase</td>\n",
       "      <td>https://BICCanvas,Easy-Erase.com</td>\n",
       "      <td>921</td>\n",
       "    </tr>\n",
       "    <tr>\n",
       "      <th>1</th>\n",
       "      <td>Breville Blender, Black</td>\n",
       "      <td>https://BrevilleBlender,Black.com</td>\n",
       "      <td>334</td>\n",
       "    </tr>\n",
       "    <tr>\n",
       "      <th>2</th>\n",
       "      <td>Nokia Headset, with Caller ID</td>\n",
       "      <td>https://NokiaHeadset,withCallerID.com</td>\n",
       "      <td>705</td>\n",
       "    </tr>\n",
       "    <tr>\n",
       "      <th>3</th>\n",
       "      <td>Samsung Signal Booster, with Caller ID</td>\n",
       "      <td>https://SamsungSignalBooster,withCallerID.com</td>\n",
       "      <td>204</td>\n",
       "    </tr>\n",
       "    <tr>\n",
       "      <th>4</th>\n",
       "      <td>Dania Floating Shelf Set, Traditional</td>\n",
       "      <td>https://DaniaFloatingShelfSet,Traditional.com</td>\n",
       "      <td>425</td>\n",
       "    </tr>\n",
       "  </tbody>\n",
       "</table>\n",
       "</div>"
      ],
      "text/plain": [
       "                     Recommended Products  \\\n",
       "0                  BIC Canvas, Easy-Erase   \n",
       "1                 Breville Blender, Black   \n",
       "2           Nokia Headset, with Caller ID   \n",
       "3  Samsung Signal Booster, with Caller ID   \n",
       "4   Dania Floating Shelf Set, Traditional   \n",
       "\n",
       "                                             Url  Price  \n",
       "0               https://BICCanvas,Easy-Erase.com    921  \n",
       "1              https://BrevilleBlender,Black.com    334  \n",
       "2          https://NokiaHeadset,withCallerID.com    705  \n",
       "3  https://SamsungSignalBooster,withCallerID.com    204  \n",
       "4  https://DaniaFloatingShelfSet,Traditional.com    425  "
      ]
     },
     "execution_count": 364,
     "metadata": {},
     "output_type": "execute_result"
    }
   ],
   "source": [
    "result = recommend(product_recs_df,'Nokia Smart Phone, with Caller ID')\n",
    "result"
   ]
  },
  {
   "cell_type": "code",
   "execution_count": 365,
   "metadata": {},
   "outputs": [
    {
     "name": "stdout",
     "output_type": "stream",
     "text": [
      "BIC Canvas, Easy-Erase \n",
      " https://BICCanvas,Easy-Erase.com \n",
      " 921\n",
      "Breville Blender, Black \n",
      " https://BrevilleBlender,Black.com \n",
      " 334\n",
      "Nokia Headset, with Caller ID \n",
      " https://NokiaHeadset,withCallerID.com \n",
      " 705\n",
      "Samsung Signal Booster, with Caller ID \n",
      " https://SamsungSignalBooster,withCallerID.com \n",
      " 204\n",
      "Dania Floating Shelf Set, Traditional \n",
      " https://DaniaFloatingShelfSet,Traditional.com \n",
      " 425\n"
     ]
    }
   ],
   "source": [
    "for row in result.iterrows():\n",
    "    rec_product = row[1][0]\n",
    "    rec_url = row[1][1]\n",
    "    rec_price = row[1][2]\n",
    "    print(rec_product, '\\n', rec_url, '\\n', rec_price)"
   ]
  }
 ],
 "metadata": {
  "colab": {
   "collapsed_sections": [],
   "name": "Credo Social Payment Hackathon.ipynb",
   "provenance": []
  },
  "kernelspec": {
   "display_name": "Python 3",
   "language": "python",
   "name": "python3"
  },
  "language_info": {
   "codemirror_mode": {
    "name": "ipython",
    "version": 3
   },
   "file_extension": ".py",
   "mimetype": "text/x-python",
   "name": "python",
   "nbconvert_exporter": "python",
   "pygments_lexer": "ipython3",
   "version": "3.7.4"
  }
 },
 "nbformat": 4,
 "nbformat_minor": 1
}
